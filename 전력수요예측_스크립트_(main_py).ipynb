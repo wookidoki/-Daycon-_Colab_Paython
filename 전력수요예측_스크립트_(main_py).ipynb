{
  "cells": [
    {
      "cell_type": "code",
      "source": [
        "# -*- coding: utf-8 -*-\n",
        "\"\"\"submission_script.ipynb\"\"\"\n",
        "\n",
        "# 데이터 분석 및 시각화를 위한 라이브러리 임포트\n",
        "import pandas as pd\n",
        "import numpy as np\n",
        "import lightgbm as lgb\n",
        "from sklearn.model_selection import train_test_split\n",
        "from sklearn.metrics import mean_squared_error\n",
        "from tqdm import tqdm\n",
        "\n",
        "# 1. 데이터 로드 및 병합\n",
        "print(\"데이터를 불러오고 병합합니다...\")\n",
        "train_df = pd.read_csv('train.csv')\n",
        "test_df = pd.read_csv('test.csv')\n",
        "building_info_df = pd.read_csv('building_info.csv', encoding='utf-8')\n",
        "train_df = pd.merge(train_df, building_info_df, on='건물번호', how='left')\n",
        "test_df = pd.merge(test_df, building_info_df, on='건물번호', how='left')\n",
        "\n",
        "# 2. 기본 전처리 및 파생변수 생성\n",
        "print(\"기본 전처리 및 파생변수 생성을 시작합니다...\")\n",
        "for df in [train_df, test_df]:\n",
        "    cols_to_process = ['태양광용량(kW)', 'ESS저장용량(kWh)', 'PCS용량(kW)']\n",
        "    for col in cols_to_process:\n",
        "        df[col] = df[col].replace('-', '0')\n",
        "        df[col] = pd.to_numeric(df[col])\n",
        "    df['일시'] = pd.to_datetime(df['일시'], format='%Y%m%d %H')\n",
        "    df['month'] = df['일시'].dt.month\n",
        "    df['day'] = df['일시'].dt.day\n",
        "    df['hour'] = df['일시'].dt.hour\n",
        "    df['weekday'] = df['일시'].dt.weekday\n",
        "    df['냉방면적비율'] = df['냉방면적(m2)'] / (df['연면적(m2)'] + 1e-6)\n",
        "    holidays = ['2024-06-06', '2024-08-15']\n",
        "    df['is_holiday'] = ((df['weekday'] >= 5) | (df['일시'].dt.strftime('%Y-%m-%d').isin(holidays))).astype(int)\n",
        "\n",
        "# 3. 모델 학습 및 예측\n",
        "print(\"\\n--- 모델 학습 및 예측 ---\")\n",
        "default_params = {\n",
        "    'objective': 'regression_l1',\n",
        "    'metric': 'rmse',\n",
        "    'n_estimators': 1000,\n",
        "    'learning_rate': 0.05,\n",
        "    'random_state': 42,\n",
        "    'n_jobs': -1,\n",
        "    'verbose': -1,\n",
        "    'boosting_type': 'gbdt'\n",
        "}\n",
        "\n",
        "# 처 목록\n",
        "features_to_exclude = ['num_date_time', '일시', '전력소비량(kWh)', '일조(hr)', '일사(MJ/m2)', '건물유형']\n",
        "features = [col for col in train_df.columns if col not in features_to_exclude]\n",
        "target = '전력소비량(kWh)'\n",
        "\n",
        "# 건물 유형별 모델 학습 및 예측\n",
        "building_types = train_df['건물유형'].unique()\n",
        "final_predictions = []\n",
        "\n",
        "for b_type in tqdm(building_types, desc=\"모델 학습 및 예측 진행\"):\n",
        "    train_type_df = train_df[train_df['건물유형'] == b_type]\n",
        "    test_type_df = test_df[test_df['건물유형'] == b_type]\n",
        "\n",
        "    X_train_full = train_type_df[features]\n",
        "    y_train_full = train_type_df[target]\n",
        "    X_test = test_type_df[features]\n",
        "\n",
        "    if not X_test.empty:\n",
        "        final_model = lgb.LGBMRegressor(**default_params)\n",
        "        final_model.fit(X_train_full, y_train_full)\n",
        "        test_preds = final_model.predict(X_test)\n",
        "\n",
        "        # 예측값이 음수일 경우 0으로 보정\n",
        "        test_preds[test_preds < 0] = 0\n",
        "\n",
        "        submission_part = test_type_df[['num_date_time']].copy()\n",
        "        submission_part['answer'] = test_preds\n",
        "        final_predictions.append(submission_part)\n",
        "\n",
        "# 최종 제출 파일 병합 및 생성\n",
        "submission_df = pd.concat(final_predictions, ignore_index=True)\n",
        "submission_df = submission_df.sort_values(by='num_date_time').reset_index(drop=True)\n",
        "\n",
        "# 4. 제출 파일 저장\n",
        "print(\"\\nsubmission.csv 파일을 생성합니다...\")\n",
        "submission_df.to_csv('submission.csv', index=False)\n",
        "print(\"submission.csv 파일이 성공적으로 생성되었습니다!\")"
      ],
      "outputs": [
        {
          "output_type": "stream",
          "name": "stdout",
          "text": [
            "데이터를 불러오고 병합합니다...\n",
            "기본 전처리 및 파생변수 생성을 시작합니다...\n",
            "\n",
            "--- 모델 학습 및 예측 ---\n"
          ]
        },
        {
          "output_type": "stream",
          "name": "stderr",
          "text": [
            "모델 학습 및 예측 진행: 100%|██████████| 10/10 [00:26<00:00,  2.64s/it]"
          ]
        },
        {
          "output_type": "stream",
          "name": "stdout",
          "text": [
            "\n",
            "submission.csv 파일을 생성합니다...\n",
            "submission.csv 파일이 성공적으로 생성되었습니다!\n"
          ]
        },
        {
          "output_type": "stream",
          "name": "stderr",
          "text": [
            "\n"
          ]
        }
      ],
      "execution_count": null,
      "metadata": {
        "id": "z_bkXHfdVXzy",
        "colab": {
          "base_uri": "https://localhost:8080/"
        },
        "outputId": "4091c4f2-705d-4901-bfe4-12cbd01998de"
      }
    },
    {
      "cell_type": "code",
      "source": [
        "!pip freeze > requirements.txt"
      ],
      "metadata": {
        "id": "NieQBqX4WTNU"
      },
      "execution_count": null,
      "outputs": []
    },
    {
      "cell_type": "code",
      "source": [],
      "metadata": {
        "id": "XA1L-IxIb3lt"
      },
      "execution_count": null,
      "outputs": []
    }
  ],
  "metadata": {
    "colab": {
      "provenance": [],
      "toc_visible": true
    },
    "kernelspec": {
      "display_name": "Python 3",
      "name": "python3"
    }
  },
  "nbformat": 4,
  "nbformat_minor": 0
}